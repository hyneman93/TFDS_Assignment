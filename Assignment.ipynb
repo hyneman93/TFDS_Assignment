cognitiveclass.ai logo
My Jupiter Notebook on IBM Watson Studio
*actually not on IBM Watson Studio since my account has been deleted and I cannot retrieve it

Marzio Melis

Civil Engineer/Policy Officer

I am interested in data science because in my field you can develop the right measures to tackle problem by means of correct use and interpretation of data

The following code calculates the sum of two integers numbers
x = int(input("Please insert the first integer number of the sum > "))
print(x)
y = int(input("Please insert the second integer number of the sum > "))
print(y)

sum = x + y

print("The total is " + str(sum))
5
10
The total is 15
Here the result in tabular form:
x	y	sum
5	10	15
Try yourself!
Click on the Run button to run the code
Insert the first integer and press enter
Insert the second integer and press enter
Get the total of the sum wanted printed out
Check also this Jupiter notebooks cheatsheet here
